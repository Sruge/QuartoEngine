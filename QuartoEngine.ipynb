{
 "cells": [
  {
   "cell_type": "code",
   "execution_count": 382,
   "metadata": {},
   "outputs": [],
   "source": [
    "import numpy as np\n",
    "from itertools import permutations\n",
    "import random as rn\n",
    "from copy import deepcopy\n",
    "from collections import Counter\n",
    "import time"
   ]
  },
  {
   "cell_type": "code",
   "execution_count": 383,
   "metadata": {},
   "outputs": [],
   "source": [
    "class Board(object):\n",
    "    def __init__(self, size = 4):\n",
    "        self.board = np.zeros((size,size,size))\n",
    "        self.emptySquares = [(i,j) for i in range(4) for j in range(4)]\n",
    "        \n",
    "    def setTile(self, tile, pos):\n",
    "        self.board[pos[0], :, pos[1]] = tile\n",
    "        self.emptySquares.remove(pos)\n",
    "        \n",
    "        \n",
    "    def getEmptySquares(self):\n",
    "        emptySquares = tuple(np.where(self.board[:, 0] == 0))\n",
    "        return emptySquares\n",
    "        \n",
    "    def winningPosition(self):\n",
    "        return np.any(np.sum(self.board, 0) == 4) or np.any(np.sum(self.board, 2) == 4)\n",
    "        "
   ]
  },
  {
   "cell_type": "code",
   "execution_count": 384,
   "metadata": {},
   "outputs": [],
   "source": [
    "class Bag(object):\n",
    "    def __init__(self, count = 16):\n",
    "        self.createAllTiles()\n",
    "        \n",
    "    def removeTile(self, tile):\n",
    "            for i, t in enumerate(self.tiles):\n",
    "                if  np.all(t == tile):\n",
    "                    self.tiles = np.delete(arr=self.tiles,obj= i, axis = 0)\n",
    "                    break\n",
    "            #self.tiles = np.delete(self.tiles, n, 0)\n",
    "        \n",
    "    def createAllTiles(self):\n",
    "        self.tiles = np.array(([1,1,1,-1],[1,1,-1,1],[1,-1,1,1],\n",
    "                             [-1,1,1,1],[1,1,-1,-1],[1,-1,1,-1],[-1,1,1,-1],\n",
    "                            [1,-1,-1,1],[-1,1,-1,1],[-1,-1,1,1],[-1,-1,-1,-1],\n",
    "                             [-1,-1,-1,1],[-1,-1,1,-1],[-1,1,-1,-1],[1,-1,-1,-1]))\n",
    "        \n",
    "                    \n",
    "        "
   ]
  },
  {
   "cell_type": "code",
   "execution_count": 420,
   "metadata": {},
   "outputs": [],
   "source": [
    "class State():\n",
    "    def __init__(self):\n",
    "        self.board = Board()\n",
    "        self.bag = Bag()\n",
    "        self.currentPlayer = 0\n",
    "        self.currentTile = np.array([1,1,1,1])\n",
    "        \n",
    "    def chooseRandomTile(self):\n",
    "        if len(self.bag.tiles) > 0:\n",
    "            n = rn.randrange(len(self.bag.tiles))\n",
    "            tile = self.bag.tiles[n]\n",
    "            self.currentTile = tile\n",
    "            self.bag.removeTile(tile)\n",
    "            #return self.currentTile\n",
    "\n",
    "    def playRandomTile(self):\n",
    "        #print(self.board.emptySquares)\n",
    "        pos = rn.choice(self.board.emptySquares)\n",
    "        self.board.setTile(self.currentTile, pos)\n",
    "        #self.board.emptySquares.remove(pos)\n",
    "        #return self.board.board\n",
    "        \n",
    "    \n",
    "    def __hash__(self):\n",
    "        return hash(np.array2string(self.board.board) + np.array2string(self.currentTile))\n",
    "    \n",
    "    def __eq__(self, other):\n",
    "        return self.__hash__() == other.__hash__()# and self.currentTile == other.currentTile\n",
    "    "
   ]
  },
  {
   "cell_type": "code",
   "execution_count": 478,
   "metadata": {},
   "outputs": [],
   "source": [
    "class MonteCarlo:\n",
    "    def __init__(self):\n",
    "        self.bigMap = {hash(state): {\"count\" : 1, \"wins\" : 0}}\n",
    "    \n",
    "    def getBestMove(self, state):\n",
    "        score = 0\n",
    "        currentBest = None\n",
    "        tempMap = {}\n",
    "        t = time.time()\n",
    "        while (time.time() - t) < 10:\n",
    "            for j in state.board.emptySquares:\n",
    "                for i in state.bag.tiles:\n",
    "                    virtualState = deepcopy(state)\n",
    "                    #print(virtualState.board.emptySquares)\n",
    "                    virtualState.board.setTile(virtualState.currentTile, j)\n",
    "                    virtualState.currentTile = i\n",
    "                    virtualState.bag.removeTile(i)\n",
    "                    if virtualState not in self.bigMap:\n",
    "                        self.rollOut(virtualState)\n",
    "                        tempMap[hash(virtualState)] = self.bigMap[hash(virtualState)][\"wins\"]/self.bigMap[hash(virtualState)][\"count\"]\n",
    "                    else:\n",
    "                        tempMap[hash(virtualState)] = self.bigMap[hash(virtualState)][\"wins\"]/self.bigMap[hash(virtualState)][\"count\"]\n",
    "            score =  max(tempMap.values())\n",
    "            for j in state.board.emptySquares:\n",
    "                for i in state.bag.tiles:\n",
    "                    virtualState = deepcopy(state)\n",
    "                    virtualState.board.setTile(virtualState.currentTile, j)\n",
    "                    virtualState.currentTile = i\n",
    "                    virtualState.bag.removeTile(i)\n",
    "                    #print(self.bigMap[hash(virtualState)][\"wins\"], score)\n",
    "                    if self.bigMap[hash(virtualState)][\"wins\"]/self.bigMap[hash(virtualState)][\"count\"] == score:\n",
    "                        currentBest = virtualState\n",
    "            self.rollOut(currentBest)\n",
    "        \n",
    "        return currentBest, score\n",
    "\n",
    "    def rollOut(self, state2):\n",
    "        #print(\"try to roll out\")\n",
    "        i = 0\n",
    "        state = deepcopy(state2)\n",
    "        tempMap = {hash(state) : {\"count\" : 1, \"wins\" : 0}}\n",
    "        while (len(state.bag.tiles) > 0) and not state.board.winningPosition():\n",
    "            #print(state.bag.tiles)\n",
    "            state.playRandomTile()\n",
    "            state.chooseRandomTile()\n",
    "            if state in tempMap:\n",
    "                tempMap[hash(state)][\"count\"] += 1\n",
    "            else:\n",
    "                tempMap[hash(state)] = {\"count\" : 1, \"wins\" : 0}\n",
    "            i += 1\n",
    "        if i % 2 == 0:\n",
    "            for v in tempMap.values():\n",
    "                v[\"wins\"] = 1\n",
    "        for k, v in tempMap.items():\n",
    "            if k in self.bigMap:\n",
    "                self.bigMap[k][\"count\"] += v[\"count\"]\n",
    "                self.bigMap[k][\"wins\"] += v[\"wins\"]\n",
    "            else:\n",
    "                self.bigMap[k] = {\"count\" : v[\"count\"], \"wins\" : v[\"wins\"]}\n",
    "                \n",
    "            \n",
    "            \n",
    "                   \n",
    "            \n",
    "        "
   ]
  },
  {
   "cell_type": "code",
   "execution_count": 460,
   "metadata": {},
   "outputs": [],
   "source": [
    "state = State()\n",
    "mc = MonteCarlo()"
   ]
  },
  {
   "cell_type": "code",
   "execution_count": 461,
   "metadata": {},
   "outputs": [],
   "source": [
    "a, b = mc.getBestMove(state)"
   ]
  },
  {
   "cell_type": "code",
   "execution_count": 462,
   "metadata": {},
   "outputs": [
    {
     "data": {
      "text/plain": [
       "array([-1,  1, -1, -1])"
      ]
     },
     "execution_count": 462,
     "metadata": {},
     "output_type": "execute_result"
    }
   ],
   "source": [
    "a.currentTile"
   ]
  },
  {
   "cell_type": "code",
   "execution_count": 428,
   "metadata": {},
   "outputs": [
    {
     "data": {
      "text/plain": [
       "array([[ 1,  1,  1, -1],\n",
       "       [ 1,  1, -1,  1],\n",
       "       [ 1, -1,  1,  1],\n",
       "       [-1,  1,  1,  1],\n",
       "       [ 1,  1, -1, -1],\n",
       "       [ 1, -1,  1, -1],\n",
       "       [-1,  1,  1, -1],\n",
       "       [ 1, -1, -1,  1],\n",
       "       [-1,  1, -1,  1],\n",
       "       [-1, -1,  1,  1],\n",
       "       [-1, -1, -1, -1],\n",
       "       [-1, -1, -1,  1],\n",
       "       [-1, -1,  1, -1],\n",
       "       [ 1, -1, -1, -1]])"
      ]
     },
     "execution_count": 428,
     "metadata": {},
     "output_type": "execute_result"
    }
   ],
   "source": [
    "a.bag.tiles"
   ]
  },
  {
   "cell_type": "code",
   "execution_count": 429,
   "metadata": {},
   "outputs": [
    {
     "data": {
      "text/plain": [
       "(<__main__.State at 0x7f8e8b63cfd0>, 1)"
      ]
     },
     "execution_count": 429,
     "metadata": {},
     "output_type": "execute_result"
    }
   ],
   "source": [
    "mc.getBestMove(a)"
   ]
  },
  {
   "cell_type": "code",
   "execution_count": 474,
   "metadata": {},
   "outputs": [],
   "source": [
    "def something():\n",
    "    state = State()\n",
    "    mc = MonteCarlo()\n",
    "    sc = 0\n",
    "    for i in range(16):\n",
    "        state, sc = mc.getBestMove(state)\n",
    "        print(state.board.board, state.currentTile, sc)\n",
    "        if state.board.winningPosition():\n",
    "            print(\"won!\")\n",
    "            break\n",
    "    return state\n"
   ]
  },
  {
   "cell_type": "code",
   "execution_count": 473,
   "metadata": {},
   "outputs": [
    {
     "name": "stdout",
     "output_type": "stream",
     "text": [
      "[[[0. 0. 0. 0.]\n",
      "  [0. 0. 0. 0.]\n",
      "  [0. 0. 0. 0.]\n",
      "  [0. 0. 0. 0.]]\n",
      "\n",
      " [[0. 0. 0. 0.]\n",
      "  [0. 0. 0. 0.]\n",
      "  [0. 0. 0. 0.]\n",
      "  [0. 0. 0. 0.]]\n",
      "\n",
      " [[0. 0. 0. 0.]\n",
      "  [0. 0. 0. 0.]\n",
      "  [0. 0. 0. 0.]\n",
      "  [0. 0. 0. 0.]]\n",
      "\n",
      " [[0. 0. 0. 1.]\n",
      "  [0. 0. 0. 1.]\n",
      "  [0. 0. 0. 1.]\n",
      "  [0. 0. 0. 1.]]] [-1 -1 -1  1] 1.0\n",
      "[[[ 0.  0.  0.  0.]\n",
      "  [ 0.  0.  0.  0.]\n",
      "  [ 0.  0.  0.  0.]\n",
      "  [ 0.  0.  0.  0.]]\n",
      "\n",
      " [[ 0.  0.  0.  0.]\n",
      "  [ 0.  0.  0.  0.]\n",
      "  [ 0.  0.  0.  0.]\n",
      "  [ 0.  0.  0.  0.]]\n",
      "\n",
      " [[ 0.  0. -1.  0.]\n",
      "  [ 0.  0. -1.  0.]\n",
      "  [ 0.  0. -1.  0.]\n",
      "  [ 0.  0.  1.  0.]]\n",
      "\n",
      " [[ 0.  0.  0.  1.]\n",
      "  [ 0.  0.  0.  1.]\n",
      "  [ 0.  0.  0.  1.]\n",
      "  [ 0.  0.  0.  1.]]] [-1  1  1 -1] 1.0\n",
      "[[[ 0.  0.  0.  0.]\n",
      "  [ 0.  0.  0.  0.]\n",
      "  [ 0.  0.  0.  0.]\n",
      "  [ 0.  0.  0.  0.]]\n",
      "\n",
      " [[ 0.  0.  0.  0.]\n",
      "  [ 0.  0.  0.  0.]\n",
      "  [ 0.  0.  0.  0.]\n",
      "  [ 0.  0.  0.  0.]]\n",
      "\n",
      " [[ 0.  0. -1.  0.]\n",
      "  [ 0.  0. -1.  0.]\n",
      "  [ 0.  0. -1.  0.]\n",
      "  [ 0.  0.  1.  0.]]\n",
      "\n",
      " [[ 0.  0. -1.  1.]\n",
      "  [ 0.  0.  1.  1.]\n",
      "  [ 0.  0.  1.  1.]\n",
      "  [ 0.  0. -1.  1.]]] [-1 -1  1  1] 1.0\n",
      "[[[ 0.  0.  0.  0.]\n",
      "  [ 0.  0.  0.  0.]\n",
      "  [ 0.  0.  0.  0.]\n",
      "  [ 0.  0.  0.  0.]]\n",
      "\n",
      " [[ 0.  0.  0. -1.]\n",
      "  [ 0.  0.  0. -1.]\n",
      "  [ 0.  0.  0.  1.]\n",
      "  [ 0.  0.  0.  1.]]\n",
      "\n",
      " [[ 0.  0. -1.  0.]\n",
      "  [ 0.  0. -1.  0.]\n",
      "  [ 0.  0. -1.  0.]\n",
      "  [ 0.  0.  1.  0.]]\n",
      "\n",
      " [[ 0.  0. -1.  1.]\n",
      "  [ 0.  0.  1.  1.]\n",
      "  [ 0.  0.  1.  1.]\n",
      "  [ 0.  0. -1.  1.]]] [-1  1 -1 -1] 1.0\n",
      "[[[ 0.  0.  0.  0.]\n",
      "  [ 0.  0.  0.  0.]\n",
      "  [ 0.  0.  0.  0.]\n",
      "  [ 0.  0.  0.  0.]]\n",
      "\n",
      " [[ 0.  0.  0. -1.]\n",
      "  [ 0.  0.  0. -1.]\n",
      "  [ 0.  0.  0.  1.]\n",
      "  [ 0.  0.  0.  1.]]\n",
      "\n",
      " [[ 0.  0. -1.  0.]\n",
      "  [ 0.  0. -1.  0.]\n",
      "  [ 0.  0. -1.  0.]\n",
      "  [ 0.  0.  1.  0.]]\n",
      "\n",
      " [[ 0. -1. -1.  1.]\n",
      "  [ 0.  1.  1.  1.]\n",
      "  [ 0. -1.  1.  1.]\n",
      "  [ 0. -1. -1.  1.]]] [ 1 -1  1 -1] 1.0\n",
      "[[[ 1.  0.  0.  0.]\n",
      "  [-1.  0.  0.  0.]\n",
      "  [ 1.  0.  0.  0.]\n",
      "  [-1.  0.  0.  0.]]\n",
      "\n",
      " [[ 0.  0.  0. -1.]\n",
      "  [ 0.  0.  0. -1.]\n",
      "  [ 0.  0.  0.  1.]\n",
      "  [ 0.  0.  0.  1.]]\n",
      "\n",
      " [[ 0.  0. -1.  0.]\n",
      "  [ 0.  0. -1.  0.]\n",
      "  [ 0.  0. -1.  0.]\n",
      "  [ 0.  0.  1.  0.]]\n",
      "\n",
      " [[ 0. -1. -1.  1.]\n",
      "  [ 0.  1.  1.  1.]\n",
      "  [ 0. -1.  1.  1.]\n",
      "  [ 0. -1. -1.  1.]]] [-1 -1 -1 -1] 1.0\n",
      "[[[ 1.  0.  0.  0.]\n",
      "  [-1.  0.  0.  0.]\n",
      "  [ 1.  0.  0.  0.]\n",
      "  [-1.  0.  0.  0.]]\n",
      "\n",
      " [[-1.  0.  0. -1.]\n",
      "  [-1.  0.  0. -1.]\n",
      "  [-1.  0.  0.  1.]\n",
      "  [-1.  0.  0.  1.]]\n",
      "\n",
      " [[ 0.  0. -1.  0.]\n",
      "  [ 0.  0. -1.  0.]\n",
      "  [ 0.  0. -1.  0.]\n",
      "  [ 0.  0.  1.  0.]]\n",
      "\n",
      " [[ 0. -1. -1.  1.]\n",
      "  [ 0.  1.  1.  1.]\n",
      "  [ 0. -1.  1.  1.]\n",
      "  [ 0. -1. -1.  1.]]] [-1 -1  1 -1] 1.0\n",
      "[[[ 1.  0.  0.  0.]\n",
      "  [-1.  0.  0.  0.]\n",
      "  [ 1.  0.  0.  0.]\n",
      "  [-1.  0.  0.  0.]]\n",
      "\n",
      " [[-1.  0.  0. -1.]\n",
      "  [-1.  0.  0. -1.]\n",
      "  [-1.  0.  0.  1.]\n",
      "  [-1.  0.  0.  1.]]\n",
      "\n",
      " [[ 0.  0. -1.  0.]\n",
      "  [ 0.  0. -1.  0.]\n",
      "  [ 0.  0. -1.  0.]\n",
      "  [ 0.  0.  1.  0.]]\n",
      "\n",
      " [[-1. -1. -1.  1.]\n",
      "  [-1.  1.  1.  1.]\n",
      "  [ 1. -1.  1.  1.]\n",
      "  [-1. -1. -1.  1.]]] [ 1 -1  1  1] 0.5\n",
      "[[[ 1.  0.  0.  0.]\n",
      "  [-1.  0.  0.  0.]\n",
      "  [ 1.  0.  0.  0.]\n",
      "  [-1.  0.  0.  0.]]\n",
      "\n",
      " [[-1.  0.  0. -1.]\n",
      "  [-1.  0.  0. -1.]\n",
      "  [-1.  0.  0.  1.]\n",
      "  [-1.  0.  0.  1.]]\n",
      "\n",
      " [[ 0.  1. -1.  0.]\n",
      "  [ 0. -1. -1.  0.]\n",
      "  [ 0.  1. -1.  0.]\n",
      "  [ 0.  1.  1.  0.]]\n",
      "\n",
      " [[-1. -1. -1.  1.]\n",
      "  [-1.  1.  1.  1.]\n",
      "  [ 1. -1.  1.  1.]\n",
      "  [-1. -1. -1.  1.]]] [ 1  1  1 -1] 0.8974358974358975\n",
      "[[[ 1.  0.  1.  0.]\n",
      "  [-1.  0.  1.  0.]\n",
      "  [ 1.  0.  1.  0.]\n",
      "  [-1.  0. -1.  0.]]\n",
      "\n",
      " [[-1.  0.  0. -1.]\n",
      "  [-1.  0.  0. -1.]\n",
      "  [-1.  0.  0.  1.]\n",
      "  [-1.  0.  0.  1.]]\n",
      "\n",
      " [[ 0.  1. -1.  0.]\n",
      "  [ 0. -1. -1.  0.]\n",
      "  [ 0.  1. -1.  0.]\n",
      "  [ 0.  1.  1.  0.]]\n",
      "\n",
      " [[-1. -1. -1.  1.]\n",
      "  [-1.  1.  1.  1.]\n",
      "  [ 1. -1.  1.  1.]\n",
      "  [-1. -1. -1.  1.]]] [-1  1 -1  1] 0.39285714285714285\n",
      "[[[ 1. -1.  1.  0.]\n",
      "  [-1.  1.  1.  0.]\n",
      "  [ 1. -1.  1.  0.]\n",
      "  [-1.  1. -1.  0.]]\n",
      "\n",
      " [[-1.  0.  0. -1.]\n",
      "  [-1.  0.  0. -1.]\n",
      "  [-1.  0.  0.  1.]\n",
      "  [-1.  0.  0.  1.]]\n",
      "\n",
      " [[ 0.  1. -1.  0.]\n",
      "  [ 0. -1. -1.  0.]\n",
      "  [ 0.  1. -1.  0.]\n",
      "  [ 0.  1.  1.  0.]]\n",
      "\n",
      " [[-1. -1. -1.  1.]\n",
      "  [-1.  1.  1.  1.]\n",
      "  [ 1. -1.  1.  1.]\n",
      "  [-1. -1. -1.  1.]]] [ 1 -1 -1  1] 0.8904109589041096\n",
      "[[[ 1. -1.  1.  0.]\n",
      "  [-1.  1.  1.  0.]\n",
      "  [ 1. -1.  1.  0.]\n",
      "  [-1.  1. -1.  0.]]\n",
      "\n",
      " [[-1.  0.  0. -1.]\n",
      "  [-1.  0.  0. -1.]\n",
      "  [-1.  0.  0.  1.]\n",
      "  [-1.  0.  0.  1.]]\n",
      "\n",
      " [[ 0.  1. -1.  1.]\n",
      "  [ 0. -1. -1. -1.]\n",
      "  [ 0.  1. -1. -1.]\n",
      "  [ 0.  1.  1.  1.]]\n",
      "\n",
      " [[-1. -1. -1.  1.]\n",
      "  [-1.  1.  1.  1.]\n",
      "  [ 1. -1.  1.  1.]\n",
      "  [-1. -1. -1.  1.]]] [ 1 -1 -1 -1] 0.38181818181818183\n",
      "[[[ 1. -1.  1.  1.]\n",
      "  [-1.  1.  1. -1.]\n",
      "  [ 1. -1.  1. -1.]\n",
      "  [-1.  1. -1. -1.]]\n",
      "\n",
      " [[-1.  0.  0. -1.]\n",
      "  [-1.  0.  0. -1.]\n",
      "  [-1.  0.  0.  1.]\n",
      "  [-1.  0.  0.  1.]]\n",
      "\n",
      " [[ 0.  1. -1.  1.]\n",
      "  [ 0. -1. -1. -1.]\n",
      "  [ 0.  1. -1. -1.]\n",
      "  [ 0.  1.  1.  1.]]\n",
      "\n",
      " [[-1. -1. -1.  1.]\n",
      "  [-1.  1.  1.  1.]\n",
      "  [ 1. -1.  1.  1.]\n",
      "  [-1. -1. -1.  1.]]] [ 1  1 -1 -1] 0.9926470588235294\n",
      "[[[ 1. -1.  1.  1.]\n",
      "  [-1.  1.  1. -1.]\n",
      "  [ 1. -1.  1. -1.]\n",
      "  [-1.  1. -1. -1.]]\n",
      "\n",
      " [[-1.  1.  0. -1.]\n",
      "  [-1.  1.  0. -1.]\n",
      "  [-1. -1.  0.  1.]\n",
      "  [-1. -1.  0.  1.]]\n",
      "\n",
      " [[ 0.  1. -1.  1.]\n",
      "  [ 0. -1. -1. -1.]\n",
      "  [ 0.  1. -1. -1.]\n",
      "  [ 0.  1.  1.  1.]]\n",
      "\n",
      " [[-1. -1. -1.  1.]\n",
      "  [-1.  1.  1.  1.]\n",
      "  [ 1. -1.  1.  1.]\n",
      "  [-1. -1. -1.  1.]]] [-1  1  1  1] 0.22879177377892032\n",
      "[[[ 1. -1.  1.  1.]\n",
      "  [-1.  1.  1. -1.]\n",
      "  [ 1. -1.  1. -1.]\n",
      "  [-1.  1. -1. -1.]]\n",
      "\n",
      " [[-1.  1. -1. -1.]\n",
      "  [-1.  1.  1. -1.]\n",
      "  [-1. -1.  1.  1.]\n",
      "  [-1. -1.  1.  1.]]\n",
      "\n",
      " [[ 0.  1. -1.  1.]\n",
      "  [ 0. -1. -1. -1.]\n",
      "  [ 0.  1. -1. -1.]\n",
      "  [ 0.  1.  1.  1.]]\n",
      "\n",
      " [[-1. -1. -1.  1.]\n",
      "  [-1.  1.  1.  1.]\n",
      "  [ 1. -1.  1.  1.]\n",
      "  [-1. -1. -1.  1.]]] [ 1  1 -1  1] 0.9394837071519255\n"
     ]
    }
   ],
   "source": [
    "a = something()"
   ]
  },
  {
   "cell_type": "code",
   "execution_count": 475,
   "metadata": {},
   "outputs": [
    {
     "data": {
      "text/plain": [
       "array([[[ 1., -1.,  1.,  1.],\n",
       "        [-1.,  1.,  1., -1.],\n",
       "        [ 1., -1.,  1., -1.],\n",
       "        [-1.,  1., -1., -1.]],\n",
       "\n",
       "       [[-1.,  1., -1., -1.],\n",
       "        [-1.,  1.,  1., -1.],\n",
       "        [-1., -1.,  1.,  1.],\n",
       "        [-1., -1.,  1.,  1.]],\n",
       "\n",
       "       [[ 0.,  1., -1.,  1.],\n",
       "        [ 0., -1., -1., -1.],\n",
       "        [ 0.,  1., -1., -1.],\n",
       "        [ 0.,  1.,  1.,  1.]],\n",
       "\n",
       "       [[-1., -1., -1.,  1.],\n",
       "        [-1.,  1.,  1.,  1.],\n",
       "        [ 1., -1.,  1.,  1.],\n",
       "        [-1., -1., -1.,  1.]]])"
      ]
     },
     "execution_count": 475,
     "metadata": {},
     "output_type": "execute_result"
    }
   ],
   "source": [
    "a.board.board"
   ]
  },
  {
   "cell_type": "code",
   "execution_count": 477,
   "metadata": {},
   "outputs": [
    {
     "data": {
      "text/plain": [
       "array([ 1,  1, -1,  1])"
      ]
     },
     "execution_count": 477,
     "metadata": {},
     "output_type": "execute_result"
    }
   ],
   "source": [
    "a.currentTile"
   ]
  },
  {
   "cell_type": "code",
   "execution_count": 481,
   "metadata": {},
   "outputs": [],
   "source": [
    "a = np.sum(a, 0)"
   ]
  },
  {
   "cell_type": "code",
   "execution_count": 484,
   "metadata": {},
   "outputs": [
    {
     "data": {
      "text/plain": [
       "array([[[ 1., -1.,  1.,  1.],\n",
       "        [-1.,  1.,  1., -1.],\n",
       "        [ 1., -1.,  1., -1.],\n",
       "        [-1.,  1., -1., -1.]],\n",
       "\n",
       "       [[-1.,  1., -1., -1.],\n",
       "        [-1.,  1.,  1., -1.],\n",
       "        [-1., -1.,  1.,  1.],\n",
       "        [-1., -1.,  1.,  1.]],\n",
       "\n",
       "       [[ 0.,  1., -1.,  1.],\n",
       "        [ 0., -1., -1., -1.],\n",
       "        [ 0.,  1., -1., -1.],\n",
       "        [ 0.,  1.,  1.,  1.]],\n",
       "\n",
       "       [[-1., -1., -1.,  1.],\n",
       "        [-1.,  1.,  1.,  1.],\n",
       "        [ 1., -1.,  1.,  1.],\n",
       "        [-1., -1., -1.,  1.]]])"
      ]
     },
     "execution_count": 484,
     "metadata": {},
     "output_type": "execute_result"
    }
   ],
   "source": [
    "a.board.board"
   ]
  },
  {
   "cell_type": "code",
   "execution_count": 486,
   "metadata": {},
   "outputs": [
    {
     "data": {
      "text/plain": [
       "1"
      ]
     },
     "execution_count": 486,
     "metadata": {},
     "output_type": "execute_result"
    }
   ],
   "source": [
    "np.sum(1, 0)"
   ]
  },
  {
   "cell_type": "code",
   "execution_count": 493,
   "metadata": {},
   "outputs": [],
   "source": [
    "a.board.setTile(a.currentTile, (2,0))"
   ]
  },
  {
   "cell_type": "code",
   "execution_count": 494,
   "metadata": {},
   "outputs": [
    {
     "data": {
      "text/plain": [
       "array([[[ 1., -1.,  1.,  1.],\n",
       "        [-1.,  1.,  1., -1.],\n",
       "        [ 1., -1.,  1., -1.],\n",
       "        [-1.,  1., -1., -1.]],\n",
       "\n",
       "       [[-1.,  1., -1., -1.],\n",
       "        [-1.,  1.,  1., -1.],\n",
       "        [-1., -1.,  1.,  1.],\n",
       "        [-1., -1.,  1.,  1.]],\n",
       "\n",
       "       [[ 1.,  1., -1.,  1.],\n",
       "        [ 1., -1., -1., -1.],\n",
       "        [-1.,  1., -1., -1.],\n",
       "        [ 1.,  1.,  1.,  1.]],\n",
       "\n",
       "       [[-1., -1., -1.,  1.],\n",
       "        [-1.,  1.,  1.,  1.],\n",
       "        [ 1., -1.,  1.,  1.],\n",
       "        [-1., -1., -1.,  1.]]])"
      ]
     },
     "execution_count": 494,
     "metadata": {},
     "output_type": "execute_result"
    }
   ],
   "source": [
    "a.board.board"
   ]
  },
  {
   "cell_type": "code",
   "execution_count": 496,
   "metadata": {},
   "outputs": [
    {
     "name": "stdout",
     "output_type": "stream",
     "text": [
      "[[ 0.  0. -2.  2.]\n",
      " [-2.  2.  2. -2.]\n",
      " [ 0. -2.  2.  0.]\n",
      " [-2.  0.  0.  2.]]\n"
     ]
    }
   ],
   "source": [
    "print(np.sum(a.board.board,0))"
   ]
  },
  {
   "cell_type": "code",
   "execution_count": 497,
   "metadata": {},
   "outputs": [
    {
     "data": {
      "text/plain": [
       "3073"
      ]
     },
     "execution_count": 497,
     "metadata": {},
     "output_type": "execute_result"
    }
   ],
   "source": [
    "len(mc.bigMap)"
   ]
  },
  {
   "cell_type": "code",
   "execution_count": null,
   "metadata": {},
   "outputs": [],
   "source": []
  }
 ],
 "metadata": {
  "kernelspec": {
   "display_name": "Python 3",
   "language": "python",
   "name": "python3"
  },
  "language_info": {
   "codemirror_mode": {
    "name": "ipython",
    "version": 3
   },
   "file_extension": ".py",
   "mimetype": "text/x-python",
   "name": "python",
   "nbconvert_exporter": "python",
   "pygments_lexer": "ipython3",
   "version": "3.6.6"
  }
 },
 "nbformat": 4,
 "nbformat_minor": 2
}
